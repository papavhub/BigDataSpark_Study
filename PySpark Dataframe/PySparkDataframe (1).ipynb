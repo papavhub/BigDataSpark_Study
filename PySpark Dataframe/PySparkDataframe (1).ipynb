{
 "cells": [
  {
   "cell_type": "code",
   "execution_count": 1,
   "id": "f0647aaa",
   "metadata": {},
   "outputs": [
    {
     "name": "stdout",
     "output_type": "stream",
     "text": [
      "max:  14.83\n",
      "min:  11.03\n"
     ]
    }
   ],
   "source": [
    "# pandas dataframe alcohol 최대, 최소\n",
    "\n",
    "from sklearn.datasets import load_wine\n",
    "import pandas as pd\n",
    "\n",
    "wine = load_wine()\n",
    "df_wine = pd.DataFrame(data = wine.data, columns=wine.feature_names)\n",
    "df_wine # pandas dataframe\n",
    "\n",
    "print(\"max: \", df_wine['alcohol'].max())\n",
    "print(\"min: \", df_wine['alcohol'].min())"
   ]
  },
  {
   "cell_type": "code",
   "execution_count": 2,
   "id": "3dc204b6",
   "metadata": {},
   "outputs": [
    {
     "name": "stderr",
     "output_type": "stream",
     "text": [
      "22/05/24 01:58:09 WARN Utils: Your hostname, Hyeui-MacBookPro.local resolves to a loopback address: 127.0.0.1; using 172.30.1.30 instead (on interface en0)\n",
      "22/05/24 01:58:09 WARN Utils: Set SPARK_LOCAL_IP if you need to bind to another address\n",
      "WARNING: An illegal reflective access operation has occurred\n",
      "WARNING: Illegal reflective access by org.apache.spark.unsafe.Platform (file:/opt/homebrew/lib/python3.9/site-packages/pyspark/jars/spark-unsafe_2.12-3.2.1.jar) to constructor java.nio.DirectByteBuffer(long,int)\n",
      "WARNING: Please consider reporting this to the maintainers of org.apache.spark.unsafe.Platform\n",
      "WARNING: Use --illegal-access=warn to enable warnings of further illegal reflective access operations\n",
      "WARNING: All illegal access operations will be denied in a future release\n",
      "Using Spark's default log4j profile: org/apache/spark/log4j-defaults.properties\n",
      "Setting default log level to \"WARN\".\n",
      "To adjust logging level use sc.setLogLevel(newLevel). For SparkR, use setLogLevel(newLevel).\n",
      "22/05/24 01:58:10 WARN NativeCodeLoader: Unable to load native-hadoop library for your platform... using builtin-java classes where applicable\n",
      "                                                                                \r"
     ]
    },
    {
     "name": "stdout",
     "output_type": "stream",
     "text": [
      "+------------+\n",
      "|max(alcohol)|\n",
      "+------------+\n",
      "|       14.83|\n",
      "+------------+\n",
      "\n",
      "+------------+\n",
      "|min(alcohol)|\n",
      "+------------+\n",
      "|       11.03|\n",
      "+------------+\n",
      "\n"
     ]
    }
   ],
   "source": [
    "# pyspark dataframe alcohol 최대, 최소\n",
    "\n",
    "from pyspark.sql import SparkSession\n",
    "import pandas as pd\n",
    "\n",
    "spark = SparkSession.builder.getOrCreate()\n",
    "\n",
    "wine = load_wine()\n",
    "df_wine = pd.DataFrame(data = wine.data, columns=wine.feature_names)\n",
    "df_wine\n",
    "\n",
    "df_spark = spark.createDataFrame(df_wine)\n",
    "\n",
    "df_spark # pyspark dataframe\n",
    "\n",
    "df_spark.agg({'alcohol': 'max'}).show()\n",
    "df_spark.agg({'alcohol': 'min'}).show()"
   ]
  },
  {
   "cell_type": "code",
   "execution_count": 5,
   "id": "bf7c6821",
   "metadata": {},
   "outputs": [
    {
     "name": "stdout",
     "output_type": "stream",
     "text": [
      "--min--\n",
      "class\n",
      "class_0    12.85\n",
      "class_1    11.03\n",
      "class_2    12.20\n",
      "Name: alcohol, dtype: float64\n",
      "--max--\n",
      "class\n",
      "class_0    14.83\n",
      "class_1    13.86\n",
      "class_2    14.34\n",
      "Name: alcohol, dtype: float64\n"
     ]
    }
   ],
   "source": [
    "# pandas dataframe 그룹화 alcohol 최대, 최소\n",
    "\n",
    "from sklearn.datasets import load_wine\n",
    "from sklearn import datasets\n",
    "import pandas as pd\n",
    "\n",
    "wine = datasets.load_wine()\n",
    "df_wine = pd.DataFrame(data = wine.data, columns = wine.feature_names) # wine.target_names\n",
    "\n",
    "# add class\n",
    "classes = ['class_0' for i in range(59)] + ['class_1' for i in range(71)] + ['class_2' for i in range(48)]\n",
    "df_wine['class'] = classes\n",
    "\n",
    "print(\"--min--\")\n",
    "print(df_wine.groupby('class').min()['alcohol'])\n",
    "\n",
    "print(\"--max--\")\n",
    "print(df_wine.groupby('class').max()['alcohol'])"
   ]
  },
  {
   "cell_type": "code",
   "execution_count": 6,
   "id": "f66ac8ef",
   "metadata": {},
   "outputs": [
    {
     "name": "stdout",
     "output_type": "stream",
     "text": [
      "--min--\n",
      "class\n",
      "class_0    12.85\n",
      "class_1    11.03\n",
      "class_2    12.20\n",
      "Name: alcohol, dtype: float64\n",
      "--max--\n",
      "class\n",
      "class_0    14.83\n",
      "class_1    13.86\n",
      "class_2    14.34\n",
      "Name: alcohol, dtype: float64\n"
     ]
    }
   ],
   "source": [
    "# pyspark dataframe 그룹화 alcohol 최대, 최소\n",
    "\n",
    "from sklearn.datasets import load_wine\n",
    "from sklearn import datasets\n",
    "import pandas as pd\n",
    "\n",
    "wine = datasets.load_wine()\n",
    "df_wine = pd.DataFrame(data = wine.data, columns = wine.feature_names) # wine.target_names\n",
    "\n",
    "# add class\n",
    "classes = ['class_0' for i in range(59)] + ['class_1' for i in range(71)] + ['class_2' for i in range(48)]\n",
    "df_wine['class'] = classes\n",
    "\n",
    "df_spark = spark.createDataFrame(df_wine)\n",
    "\n",
    "print(\"--min--\")\n",
    "print(df_wine.groupby('class').min()['alcohol'])\n",
    "\n",
    "print(\"--max--\")\n",
    "print(df_wine.groupby('class').max()['alcohol'])"
   ]
  },
  {
   "cell_type": "code",
   "execution_count": null,
   "id": "20c7d71b",
   "metadata": {},
   "outputs": [],
   "source": []
  }
 ],
 "metadata": {
  "kernelspec": {
   "display_name": "Python 3 (ipykernel)",
   "language": "python",
   "name": "python3"
  },
  "language_info": {
   "codemirror_mode": {
    "name": "ipython",
    "version": 3
   },
   "file_extension": ".py",
   "mimetype": "text/x-python",
   "name": "python",
   "nbconvert_exporter": "python",
   "pygments_lexer": "ipython3",
   "version": "3.9.12"
  }
 },
 "nbformat": 4,
 "nbformat_minor": 5
}
